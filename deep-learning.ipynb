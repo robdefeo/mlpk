{
 "cells": [
  {
   "cell_type": "markdown",
   "metadata": {},
   "source": [
    "# Deep Learning\n",
    "\n",
    "**What is the difference between machine learning and deep learning?** Â \n",
    "Deep learning is a subset of machine learning, or a way to implement machine learning. It is implemented using  artificial neural networks, each \"neuron\" weighting being trained and their values are then used to predict the correct answer.\n",
    "\n",
    "**How does Deep Learning improve on traditional machine learning?**  \n",
    "Machine learning requires still manual work to hand code filters and classifiers making it prone to error, deep learning uses neural nets to see the weights and train them based more on the data meaning it is more flexible.  It is easier with deep learning to create more complex models by adding layers and improving the results. With the introduction of GPU the computation power needed to train these types of models is now readily available.\n",
    "What are the popular deep learning frameworks?\n",
    "Some of the popular deep learning frameworks are MxNet, Tensorflow, Caffe, Keras, theano, torch"
   ]
  }
 ],
 "metadata": {
  "kernelspec": {
   "display_name": "Python 3",
   "language": "python",
   "name": "python3"
  },
  "language_info": {
   "codemirror_mode": {
    "name": "ipython",
    "version": 3
   },
   "file_extension": ".py",
   "mimetype": "text/x-python",
   "name": "python",
   "nbconvert_exporter": "python",
   "pygments_lexer": "ipython3",
   "version": "3.6.1"
  }
 },
 "nbformat": 4,
 "nbformat_minor": 2
}

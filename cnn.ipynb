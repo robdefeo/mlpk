{
 "cells": [
  {
   "cell_type": "markdown",
   "metadata": {},
   "source": [
    "# Convolutional Neural Network (CNN)\n",
    "\n",
    "**What is a CNN?** TODO:\n",
    "Convolutional Neutral Network - Multi-layer model that  Has neurons similar to a human brain and have weights that are learnt through training. CCN represent spacial problems well.\n",
    "\n",
    "**What is a CCN best used for?** TODO:\n",
    "CNN are very good for percuptual problems such as image classification. \n",
    "It is a very flexible and used to solve many problems, it is particularly useful when there is some \"ordered data\" of some description, with this characteristic it is used for image recognition as well as NLP.\n",
    "\n",
    "**What is a convolutional layer?** TODO:\n",
    "For images they are a representation of spacial relationships, its all about how items related to each other from the point of view of position.\n",
    "\n",
    "**How does a 1D convolution different from a 2D convolution?**\n",
    "It depends on the data, e.g. image = 2D, sentence = 1D\n",
    "\n",
    "**How to start creating a model from scratch?**\n",
    "Start to create the simplest model possible that out performs random.\n",
    "\t1. Batch norm\n",
    "\t2. Flatten\n",
    "\n",
    "\n",
    "**What is the simplest possible CNN?**\n",
    "It has the layers:\n",
    "- Convolution \n",
    "- Dropout\n",
    "- MaxPooling\n",
    "- Dense layer"
   ]
  }
 ],
 "metadata": {
  "kernelspec": {
   "display_name": "Python 3",
   "language": "python",
   "name": "python3"
  },
  "language_info": {
   "codemirror_mode": {
    "name": "ipython",
    "version": 3
   },
   "file_extension": ".py",
   "mimetype": "text/x-python",
   "name": "python",
   "nbconvert_exporter": "python",
   "pygments_lexer": "ipython3",
   "version": "3.6.1"
  }
 },
 "nbformat": 4,
 "nbformat_minor": 2
}

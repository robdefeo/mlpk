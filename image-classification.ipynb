{
 "cells": [
  {
   "cell_type": "markdown",
   "metadata": {},
   "source": [
    "Why 3x3 filters instead of 7x7 for CNN?\n",
    "Long answer, read Matt Zieglers paper; short answer, smaller filters and more layers works better.\n",
    "\n",
    "How many layers of 3x3 filters?\n",
    "There is no set amount, more complex the problem the more layers needed?\n",
    "\n",
    "How many 3x3 filters?\n",
    "There is no set amount, in general using max pooling and doubling the number of filters each time max pooling is used is a goof heuristic. How many to start with is something that needs to be determined usually by experimenting.\n",
    "\n",
    "How to deal with large images?\n",
    "Not yet figured out in industry, either find the answer or wait for someone else to.Currently people are resizing the image down e.g. 512x512 with obvious loss in resolution."
   ]
  }
 ],
 "metadata": {
  "kernelspec": {
   "display_name": "Python 3",
   "language": "python",
   "name": "python3"
  },
  "language_info": {
   "codemirror_mode": {
    "name": "ipython",
    "version": 3
   },
   "file_extension": ".py",
   "mimetype": "text/x-python",
   "name": "python",
   "nbconvert_exporter": "python",
   "pygments_lexer": "ipython3",
   "version": "3.6.1"
  }
 },
 "nbformat": 4,
 "nbformat_minor": 2
}

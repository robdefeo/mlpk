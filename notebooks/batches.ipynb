{
 "cells": [
  {
   "cell_type": "markdown",
   "metadata": {},
   "source": [
    "# Batches\n",
    "\n",
    "**What is a batch?**\n",
    "Several items grouped together.\n",
    "\n",
    "**Why are batches used?**\n",
    "If data was passed one item at a time, to the GPU, it would take a long time to\n",
    "process and the GPU would be mostly idle. To make the most of GPU performance\n",
    "data is processed in groups.\n",
    "\n",
    "**What is an ideal size of a batch?** TODO:\n",
    "\n",
    "**What happens if the batch size is too small? / Why not process one piece of\n",
    "data at a time?**\n",
    "If data is passed one item at a time, to the GPU, it would take a long time to\n",
    "process and the GPU would be under utilized .\n",
    "\n",
    "**What happens if the batch size is too large? / Why not process all the data in\n",
    "one go?**\n",
    "GPU have a limited amount of memory, it's unlikely that it can all fit in GPU\n",
    "memory."
   ]
  }
 ],
 "metadata": {},
 "nbformat": 4,
 "nbformat_minor": 2
}

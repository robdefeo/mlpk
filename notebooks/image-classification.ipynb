{
 "cells": [
  {
   "cell_type": "markdown",
   "metadata": {},
   "source": [
    "Why 3x3 filters instead of 7x7 for CNN?\n",
    "Long answer, read Matt Zieglers paper; short answer, smaller filters and more\n",
    "layers works better.\n",
    "\n",
    "How many layers of 3x3 filters?\n",
    "There is no set amount, more complex the problem the more layers needed?\n",
    "\n",
    "How many 3x3 filters?\n",
    "There is no set amount, in general using max pooling and doubling the number of\n",
    "filters each time max pooling is used is a goof heuristic. How many to start\n",
    "with is something that needs to be determined usually by experimenting.\n",
    "\n",
    "How to deal with large images?\n",
    "Not yet figured out in industry, either find the answer or wait for someone else\n",
    "to.Currently people are resizing the image down e.g. 512x512 with obvious loss\n",
    "in resolution."
   ]
  }
 ],
 "metadata": {},
 "nbformat": 4,
 "nbformat_minor": 2
}

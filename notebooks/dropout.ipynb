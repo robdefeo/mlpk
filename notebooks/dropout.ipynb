{
 "cells": [
  {
   "cell_type": "markdown",
   "metadata": {},
   "source": [
    "# Dropout\n",
    "\n",
    "**What is dropout?** TODO:\n",
    "\n",
    "**Why do you use dropout?**\n",
    "Dropout also helps reduce overfitting, by preventing a layer from seeing twice\n",
    "the exact same pattern, analoguous to [data augmentation](./data-\n",
    "augmentation.md) both disrupt random correlations occuring in your data.\n",
    "\n",
    "# Notes\n",
    "\n",
    "\n",
    "-   *Dropout:* Dropout layers are added at the end of a FullyConnectedBlock and\n",
    "delete a certain percentage of the activations at random. When random parts of\n",
    "the network are thrown away the network can't learn to overfit. It mean big\n",
    "complex models can be trained for long periods of time without overfitting."
   ]
  }
 ],
 "metadata": {},
 "nbformat": 4,
 "nbformat_minor": 2
}

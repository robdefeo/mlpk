{
 "cells": [
  {
   "cell_type": "markdown",
   "metadata": {},
   "source": [
    "# Linear Regression\n",
    "\n",
    "**What is linear regression?**\n",
    "\n",
    "\n",
    "**When is linear regression used?**\n",
    "\n",
    "\n",
    "**How does linear regression work?**\n",
    "Take collection of data points `X`, and corresponding target values `y`, linear\n",
    "regression will try to find the line, parameterized by a vector `w` and\n",
    "intercept `b` that approximately best associates data points `X[i]` with their\n",
    "corresponding labels `y[i]`."
   ]
  }
 ],
 "metadata": {},
 "nbformat": 4,
 "nbformat_minor": 2
}

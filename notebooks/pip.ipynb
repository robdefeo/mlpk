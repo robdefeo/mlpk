{
 "cells": [
  {
   "cell_type": "markdown",
   "metadata": {},
   "source": [
    "# PIP\n",
    "\n",
    "Used for installing python libraries\n",
    "\n",
    "**How do I install a python library and then add it to the requirements file, like \"npm install --save\"?**\n",
    "The same thing does not exist but this achieves more or less the same thing `pip install {package} && pip freeze > requirements.txt`"
   ]
  }
 ],
 "metadata": {},
 "nbformat": 4,
 "nbformat_minor": 2
}

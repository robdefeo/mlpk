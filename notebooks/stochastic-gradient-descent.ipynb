{
 "cells": [
  {
   "cell_type": "markdown",
   "metadata": {},
   "source": [
    "# Stochastic Gradient Descent (SGD)\n",
    "\n",
    "**What is SGD?** .\n",
    "\n",
    "\n",
    "**What does SGD do?**\n",
    "At each step, need to estimate the gradient of the loss with respect to model\n",
    "weights, using one batch randomly drawn from the dataset. Then, update\n",
    "parameters a small amount in the direction that reduces the loss. The size of\n",
    "the step is determined by the *learning rate* ``lr``."
   ]
  }
 ],
 "metadata": {},
 "nbformat": 4,
 "nbformat_minor": 2
}

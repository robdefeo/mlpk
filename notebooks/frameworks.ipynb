{
 "cells": [
  {
   "cell_type": "markdown",
   "metadata": {},
   "source": [
    "# Frameworks\n",
    "\n",
    "## MxNet\n",
    "MXNet library, which has the rare property of being flexible enough for research\n",
    "while being fast enough for production\n",
    "\n",
    "\n",
    "## Keras\n",
    "\n",
    "**Why is Keras useful?**\n",
    "Single abstraction layer on, MxNet (in dev), TensorFlow and Theano.\n",
    "\n",
    "**How to change Keras back-end?**\n",
    "A Configuration change `backend` value in the `~/.keras/keras.json` file to the\n",
    "prefered framework.  Values are `tensorflow`, `theano` TODO: mxnet???\n",
    "\n",
    "TODO: mxnet"
   ]
  },
  {
   "cell_type": "code",
   "execution_count": null,
   "metadata": {
    "attributes": {
     "classes": [
      "json"
     ],
     "id": ""
    }
   },
   "outputs": [],
   "source": [
    "{\n",
    "    \"floatx\": \"float32\",\n",
    "    \"epsilon\": 1e-07,\n",
    "    \"backend\": \"tensorflow\",\n",
    "    \"image_data_format\": \"channels_last\"\n",
    "}"
   ]
  },
  {
   "cell_type": "markdown",
   "metadata": {},
   "source": [
    "## TensorFlow\n",
    "\n",
    "\n",
    "## Theano\n",
    "\n",
    "**What is Theano not good at?**\n",
    "It does not work with multiple GPU's well.\n",
    "\n",
    "## CUDA\n",
    "\n",
    "### CUDNN"
   ]
  }
 ],
 "metadata": {},
 "nbformat": 4,
 "nbformat_minor": 2
}

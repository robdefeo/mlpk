{
 "cells": [
  {
   "cell_type": "markdown",
   "metadata": {},
   "source": [
    "# Small amounts of data\n",
    "\n",
    "**Can I train a model of small amounts of data?**\n",
    "Normally deep learning requires large amounts of data as it needs to be able to learn the features automatically from data.  This is most relevant in problems with data that is highly dimensional, e.g. images. [CCN](./cnn.md) are able to be trained on smaller datasets using techniques like [data augmentation](./data-agumentation.md) or [fine tuning](./fine-tuning.md) an existing model."
   ]
  }
 ],
 "metadata": {},
 "nbformat": 4,
 "nbformat_minor": 2
}

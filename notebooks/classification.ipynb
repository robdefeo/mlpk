{
 "cells": [
  {
   "cell_type": "markdown",
   "metadata": {},
   "source": [
    "# Classification\n",
    "\n",
    "**What is a classifier?**\n",
    "\n",
    "**What does the probability associated with the classification prediction\n",
    "mean?**\n",
    "The confidence of the classifier is expressed in probabilties, e.g.\n",
    "Pr(y=cat|x)=0.9 meaning the classifier is 90% sure that it's a cat.\n",
    "\n",
    "\n",
    "**Should I always take the result with the highest probability?**\n",
    "It depends on the loss of a incorrect result, 90% is high but 10% of the time\n",
    "not stopping at a red light is too high!\n",
    "\n",
    "**What types of classifiers are there?**\n",
    "\n",
    "- *Binary* - `[0, 1]` True / False\n",
    "- *multi-class* - `[0, 1, 2, 3, 4, 5, 6, 7, 8, 9]` belong to a specific\n",
    "category.\n",
    "- *hierarchical classification* - different hierarcical groups\n",
    "\n",
    "**What is specicial about hierarchical classification**\n",
    "The cost of miss-categorisation is difficult to predict, typically mistaking\n",
    "something in the correct parent category but wrong child is not a big deal\n",
    "however sometime the child nodes might be important. Think about miss-\n",
    "identifying the wrong type of cat (harmless) to miss-identifying the wrong snake\n",
    "(potentially dangerous).  Costs of miss-identitying typically is more the\n",
    "further from the truth however it is not uniform.\n",
    "\n",
    "**When can classification not be used effectivly?**\n",
    "- *Tagging* it would result in running 'n' models to add all the tags\n",
    "- *[Regression](./regression.md)* predict a spefic value"
   ]
  }
 ],
 "metadata": {},
 "nbformat": 4,
 "nbformat_minor": 2
}

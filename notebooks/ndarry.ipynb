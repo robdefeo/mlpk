{
 "cells": [
  {
   "cell_type": "markdown",
   "metadata": {},
   "source": [
    "# NDArray\n",
    "\n",
    "**What is a NDArray?**\n",
    "Similar to NumPy multi-dimensional array however support asynchronous computation on CPU, GPU, and distributed cloud architectures.\n",
    "\n",
    "**How to convert from NdArray to Numpy and back?**"
   ]
  },
  {
   "cell_type": "code",
   "execution_count": null,
   "metadata": {},
   "outputs": [],
   "source": [
    "import mxnet as mx\n",
    "import mxnet.ndarray as nd\n",
    "\n",
    "a = nd.ones(shape=(5))\n",
    "b = a.asnumpy()\n",
    "c = nd.array(b)"
   ]
  },
  {
   "cell_type": "markdown",
   "metadata": {},
   "source": [
    "## Element-wise operation\n",
    "\n",
    "**What is element-wise operation?**\n",
    "Perform the same operation on each element of the array.  \n",
    "\n",
    "**When can ndarray use element-wise operations?**\n",
    "When each array are the same shape.\n",
    "\n",
    "**What operations can ndarray perform?**\n",
    "Calling any of the standard arithmetic operators `(+, -, /, *, **)` will invoke an element-wise operation\n",
    "\n",
    "**Can you show me an example?**"
   ]
  },
  {
   "cell_type": "code",
   "execution_count": null,
   "metadata": {},
   "outputs": [],
   "source": [
    "u = nd.zeros(shape=10)\n",
    "v = nd.ones(shape=10)\n",
    "print(u)\n",
    "print(v)\n",
    "print(u + v)\n",
    "print(u - v)\n",
    "print(u * v)\n",
    "print(u / v)"
   ]
  },
  {
   "cell_type": "markdown",
   "metadata": {},
   "source": [
    "## Other Functions\n",
    "\n",
    "**How can I sum an ndarray?**\n",
    "You can sum across ndarray or by slices using `nd.sum`."
   ]
  },
  {
   "cell_type": "code",
   "execution_count": null,
   "metadata": {},
   "outputs": [],
   "source": [
    "u = nd.zeros(shape=10)\n",
    "A = nd.random_normal(shape=(5,4))\n",
    "B = nd.random_normal(shape=(5,4))\n",
    "print(nd.sum(u)) # Sum across 1D array\n",
    "print(nd.sum(A)) # Sum across all dimensions of array\n",
    "print(nd.sum(A[1:])) # Sum across single dimension (2nd row)"
   ]
  },
  {
   "cell_type": "markdown",
   "metadata": {},
   "source": [
    "**How can I calculate the mean of an ndarray?**\n",
    "You can mean/average across ndarray or by slices using `nd.mean`."
   ]
  },
  {
   "cell_type": "code",
   "execution_count": null,
   "metadata": {},
   "outputs": [],
   "source": [
    "u = nd.zeros(shape=10)\n",
    "A = nd.random_normal(shape=(5,4))\n",
    "B = nd.random_normal(shape=(5,4))\n",
    "print(nd.mean(u)) # Average across 1D array\n",
    "print(nd.mean(A)) # Average across all dimensions of array\n",
    "print(nd.mean(A[1:])) # Average across single dimension (2nd row)"
   ]
  },
  {
   "cell_type": "markdown",
   "metadata": {},
   "source": [
    "**How can I sum an ndarray?**\n",
    "print(nd.mean(u).asscalar())\n",
    "print(nd.mean(A).asscalar())\n",
    "print(nd.mean(A[:1]).asscalar())\n",
    "\n",
    "**What is dot product?**\n",
    "One of the most fundamental operations is the dot product. Given two vectors $\\boldsymbol{u}$ and $\\boldsymbol{v}$, the dot product $\\boldsymbol{u}^T \\cdot \\boldsymbol{v}$ is a sum over the products of the corresponding elements: $\\boldsymbol{u}^T \\cdot \\boldsymbol{v} = \\sum_{i=1}^{d} u_i \\cdot v_i$.\n",
    "\n",
    "**How to perform a dot product?"
   ]
  },
  {
   "cell_type": "code",
   "execution_count": null,
   "metadata": {},
   "outputs": [],
   "source": [
    "u = nd.arange(0,5,1.)\n",
    "v = nd.flip(nd.arange(0,5,1.), 0)\n",
    "print(u)\n",
    "print(v)\n",
    "print(nd.dot(u,v))"
   ]
  },
  {
   "cell_type": "markdown",
   "metadata": {},
   "source": [
    "is equivalent to `nd.sum(u * v)`"
   ]
  }
 ],
 "metadata": {},
 "nbformat": 4,
 "nbformat_minor": 2
}

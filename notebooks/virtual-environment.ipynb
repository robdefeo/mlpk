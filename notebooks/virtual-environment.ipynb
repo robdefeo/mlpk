{
 "cells": [
  {
   "cell_type": "markdown",
   "metadata": {},
   "source": [
    "# Virtual Environement (venv)\n",
    "\n",
    "**How do I setup a venv?**\n",
    "Create venv `python3 -m venv`\n",
    "\n",
    "**How do I activate a venv?**\n",
    "`source {venv_PATH}/bin/activate`"
   ]
  }
 ],
 "metadata": {},
 "nbformat": 4,
 "nbformat_minor": 2
}

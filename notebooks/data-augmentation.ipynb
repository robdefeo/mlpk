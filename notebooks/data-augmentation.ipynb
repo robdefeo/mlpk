{
 "cells": [
  {
   "cell_type": "markdown",
   "metadata": {},
   "source": [
    "# Data Augmentation\n",
    "\n",
    "## General\n",
    "\n",
    "**What is data augmentation?** Changes data in some way so that it appears\n",
    "different.\n",
    "\n",
    "**Why use data augmentation?**\n",
    "Main reasons:\n",
    "\n",
    "- **Supplement data** Simulate having more data than you actually have,\n",
    "particually useful if you are training a model with a small amount of data.\n",
    "- **Prevent overfitting** Create data that is more varied to reduce over-fitting\n",
    "since the model will see different data each time helping the model to\n",
    "generalise better.\n",
    "- **More realistic data** Create data that can more closely represent data in\n",
    "the real world, if the training data is too clean/perfect then data augmentation\n",
    "can help to make it less perfect.\n",
    "\n",
    "**What are the limits of data augmentation?**\n",
    "Data create will be highly correlated to the source data, meaning\n",
    "[overfitting](./overfitting.md) can still occur.\n",
    "\n",
    "**What data types can be augmented?** TODO:\n",
    "\n",
    "- Images\n",
    "- What else TODO:\n",
    "\n",
    "## Examples\n",
    "\n",
    "### Keras"
   ]
  },
  {
   "cell_type": "code",
   "execution_count": 2,
   "metadata": {
    "attributes": {
     "classes": [],
     "id": "",
     "n": "2"
    }
   },
   "outputs": [
    {
     "name": "stderr",
     "output_type": "stream",
     "text": [
      "Using TensorFlow backend.\n"
     ]
    }
   ],
   "source": [
    "from keras.preprocessing.image import ImageDataGenerator\n",
    "\n",
    "datagen = ImageDataGenerator(\n",
    "        rotation_range=40,\n",
    "        width_shift_range=0.2,\n",
    "        height_shift_range=0.2,\n",
    "        rescale=1./255,\n",
    "        shear_range=0.2,\n",
    "        zoom_range=0.2,\n",
    "        horizontal_flip=True,\n",
    "        fill_mode='nearest')"
   ]
  }
 ],
 "metadata": {},
 "nbformat": 4,
 "nbformat_minor": 2
}

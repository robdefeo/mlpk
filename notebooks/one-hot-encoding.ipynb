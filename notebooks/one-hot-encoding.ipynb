{
 "cells": [
  {
   "cell_type": "markdown",
   "metadata": {},
   "source": [
    "# One-hot encoding\n",
    "\n",
    "**What is one-hot encoding?**\n",
    "Converting a categorical values into a series of binary fields."
   ]
  },
  {
   "cell_type": "code",
   "execution_count": 1,
   "metadata": {
    "attributes": {
     "classes": [],
     "id": "",
     "n": "1"
    }
   },
   "outputs": [],
   "source": [
    "# male = 1, female = 2, unknown = 3\n",
    "category_gender = [1, 1, 3, 2, 2]\n",
    "one_hot_gender = [\n",
    "    [1, 0, 0],\n",
    "    [1, 0, 0],\n",
    "    [0, 0, 1],\n",
    "    [0, 1, 0],\n",
    "    [0, 1, 0]\n",
    "]"
   ]
  },
  {
   "cell_type": "markdown",
   "metadata": {},
   "source": [
    "**Why do you use one-hot encoding?**\n",
    "Many machines learning algorithm see numerical values as linear, for many data\n",
    "values this does not represent the difference between each value.  In the case\n",
    "of `male = 1, female = 2, unknown = 3` distance between these values can not be\n",
    "represented numberically."
   ]
  }
 ],
 "metadata": {},
 "nbformat": 4,
 "nbformat_minor": 2
}

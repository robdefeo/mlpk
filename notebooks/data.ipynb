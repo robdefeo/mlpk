{
 "cells": [
  {
   "cell_type": "markdown",
   "metadata": {},
   "source": [
    "# Data\n",
    "\n",
    "The more the better. Data is at the heart of the resurgence of deep learning,\n",
    "since complex nonlinear models require lots of it to work well. Here are some\n",
    "examples.\n",
    "Images, e.g. pictures taken by your phone (cats, dogs, dinosaurs, high school\n",
    "reunions, dentist's X-Ray images, satellite images, ...)\n",
    "Text, e.g. emails, high school essays, tweets, news articles\n",
    "Sound, e.g. voice commands sent to an Echo, audio books, phone calls\n",
    "Video, e.g. movies, home surveillance, multi-camera tracking, ...\n",
    "Structured data, e.g. this Jupyter notebook (it contains text, images, code), a\n",
    "webpage, car rental records, your electricity bill, ...\n",
    "\n",
    "\n",
    "Note that there is a subtle difference between discrete random variables, like\n",
    "the sides of a dice, and continuous ones, like the weight and the height of a\n",
    "person. There's little point in asking whether two people have exactly the same\n",
    "height - the probably won't. In fact, even the same person will probably not\n",
    "have the same height at two different occasions. They might have gained weight,\n",
    "a tiny bit of skin on their feet might have rubbed off, etc; What makes more\n",
    "sense in this case is to ask whether the height falls into a given interval, say\n",
    "between 180.0 and 180.1 centimeters."
   ]
  }
 ],
 "metadata": {},
 "nbformat": 4,
 "nbformat_minor": 2
}

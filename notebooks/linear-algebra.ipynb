{
 "cells": [
  {
   "cell_type": "markdown",
   "metadata": {},
   "source": [
    "# Linear Algebra\n",
    "\n",
    "**Why is linear algebra important for deep learning?**\n",
    "\n",
    "## Scalars\n",
    "\n",
    "**What are scalars?**\n",
    "A term used in linear algebra for \"normal\" numbers e.g. `3, 2.4` etc.\n",
    "\n",
    "**How are scalars represented in mathematical notation?**\n",
    "Ordinary lower cased letters (x,  y,  z)\n",
    "\n",
    "**How to work with scalars in ndarray?**\n",
    "Create NDArrays with one element."
   ]
  },
  {
   "cell_type": "code",
   "execution_count": null,
   "metadata": {},
   "outputs": [],
   "source": [
    "x = nd.array([3.0]) \n",
    "y = nd.array([2.0])\n",
    "print(x + y)\n",
    "print(x * y)\n",
    "print(x / y)\n",
    "print(nd.power(x,y))\n",
    "x.asscalar()"
   ]
  },
  {
   "cell_type": "markdown",
   "metadata": {},
   "source": [
    "## Vectors\n",
    "\n",
    "**What are vectors?**\n",
    "List of numbers `([1.0, 3.0, 4.0, 2.0])`, or list of scalars / 1D array of scalars.\n",
    "\n",
    "**What can vectors represent?**\n",
    "A vector could represent numerical features of some real-world person or object, like the last-record measurements across various vital signs for a patient in the hospital. \n",
    "\n",
    "**How are vectors represented in mathematical notation?**\n",
    "In math notation, we'll always denote vectors as bold-faced lower-cased letters (**u**,  **v**, **w**)\n",
    "\n",
    "**How to work with scalars in ndarray?**\n",
    "Create 1D NDArrays with an arbitrary number of components."
   ]
  },
  {
   "cell_type": "code",
   "execution_count": null,
   "metadata": {},
   "outputs": [],
   "source": [
    "u = nd.zeros(shape=10)\n",
    "v = nd.ones(shape=10)\n",
    "print(u)\n",
    "print(v)"
   ]
  },
  {
   "cell_type": "markdown",
   "metadata": {},
   "source": [
    "## Matrices\n",
    "\n",
    "**What are matrices?**\n",
    "2D array of vectors, e.g."
   ]
  },
  {
   "cell_type": "code",
   "execution_count": null,
   "metadata": {},
   "outputs": [],
   "source": [
    "[[ 2.21220636  1.16307867  0.7740038   0.48380461]\n",
    " [ 1.04344046  0.29956347  1.18392551  0.15302546]\n",
    " [ 1.89171135 -1.16881478 -1.23474145  1.55807114]\n",
    " [-1.771029   -0.54594457 -0.45138445 -2.35562968]\n",
    " [ 0.57938355  0.54144019 -1.85608196  2.67850661]]"
   ]
  },
  {
   "cell_type": "markdown",
   "metadata": {},
   "source": [
    "**What can matrices represent?**\n",
    "Adds a dimension to the vector so if a vector represented patient data, the additional dimension could contain data for different patients.  E.g. rows in our matrix might correspond to different patients, while columns might correspond to different attributes.\n",
    "\n",
    "**How are matrices represented in mathematical notation?**\n",
    "Bold-faced upper-cased letters (**A**,  **B**, **C**)\n",
    "\n",
    "**How to work with scalars in ndarray?**"
   ]
  },
  {
   "cell_type": "code",
   "execution_count": null,
   "metadata": {},
   "outputs": [],
   "source": [
    "A = nd.random_normal(shape=(5,4)) # Create matrix 5 rows, 4 columns\n",
    "B = nd.random_normal(shape=(5,4))\n",
    "\n",
    "A[2,3] # Single value at 3rd column and 4 row (zero index)\n",
    "\n",
    "print(A[2,:]) # entire row\n",
    "print(A[:,3]) # entire column"
   ]
  },
  {
   "cell_type": "markdown",
   "metadata": {},
   "source": [
    "## Tensors\n",
    "\n",
    "**What are tensors?**\n",
    "Tensors, give us a generic way of discussing arrays with an arbitrary number of axes. Vectors, for example are be first-order tensors, and matrices are second-order tensors."
   ]
  }
 ],
 "metadata": {},
 "nbformat": 4,
 "nbformat_minor": 2
}

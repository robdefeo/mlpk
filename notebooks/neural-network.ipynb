{
 "cells": [
  {
   "cell_type": "markdown",
   "metadata": {},
   "source": [
    "# Neural Network (NN)\n",
    "\n",
    "**What is a NN?**\n",
    "A neural network is just a collection of nodes (aka neurons) connected by directed edges. In most networks, we arrange the nodes into layers with each taking input from the nodes below. To calculate the value of any node, we first perform a weighted sum of the inputs (according to weights w) and then apply an activation function. For linear regression, we have two layers, the input (depicted in orange) and a single output node (depicted in green) and the activation function is just the identity function.\n",
    "\n",
    "In this picture, we visualize all of the components of each input as orange circles.\n",
    "![simple neural network](./images/neural-network-01.jpg \"simple neural network\")\n",
    "\n",
    "**Why are NN important?**\n",
    "They are universal approximation machines, it's to mathmatically handle any type of problem, \n",
    "They are an infinitly flexible function, meaning that it can be used to solve any type of problem.\n",
    "\n",
    "\n",
    "\n",
    "**If a NN can theoretically approximate anything why does model architecture and activations even matter?** TODO:\n",
    "It would take an impossibly long time to complete a satisfactory calculation.\n",
    "\n",
    "\n",
    "**What data do you need to train a NN?**\n",
    "You need data that shows examples of what you want to predict."
   ]
  }
 ],
 "metadata": {},
 "nbformat": 4,
 "nbformat_minor": 2
}

{
 "cells": [
  {
   "cell_type": "markdown",
   "metadata": {},
   "source": [
    "# Gradient descent\n",
    "\n",
    "**What is gradient descent?**\n",
    "\n",
    "**Why is gradient descent important?** Allows for all purpose parameter fitting.\n",
    "\n",
    "## Backward propergation\n",
    "\n",
    "**What is backward propergation?**"
   ]
  }
 ],
 "metadata": {},
 "nbformat": 4,
 "nbformat_minor": 2
}

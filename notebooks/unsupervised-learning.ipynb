{
 "cells": [
  {
   "cell_type": "markdown",
   "metadata": {},
   "source": [
    "# Unsupervised Learning\n",
    "\n",
    "What is unsupervised learning? TODO:\n",
    "\n",
    "**How can I use data more usefully?** TODO:\n",
    "With text an example is to take 11 words in order, make a copy of it, then remove the middle word and replace that removed word with a random one. In effect there are two sets of text one that makes sense and one that does not, these data sets can then be given a label, e.g. 1 / 0.\n",
    "\n",
    "**How do find a use case for unsupervised learning?** TODO:\n",
    "Come up with a task that is as close to a the task you will eventually be interested in as possible that does not require labels or labels are really cheap to generate."
   ]
  }
 ],
 "metadata": {},
 "nbformat": 4,
 "nbformat_minor": 2
}

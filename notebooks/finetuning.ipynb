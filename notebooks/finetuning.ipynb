{
 "cells": [
  {
   "cell_type": "markdown",
   "metadata": {},
   "source": [
    "# Fine Tuning\n",
    "\n",
    "**What is fine tuning?**\n",
    "Take an existing model and adapt it to a new but similar problem.\n",
    "\n",
    "**How does fine tuning work?**\n",
    "\n",
    "**What are the limits of fine tuning?**"
   ]
  }
 ],
 "metadata": {},
 "nbformat": 4,
 "nbformat_minor": 2
}

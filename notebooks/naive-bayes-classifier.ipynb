{
 "cells": [
  {
   "cell_type": "markdown",
   "metadata": {},
   "source": [
    "# Naive Bayes classifiers\n",
    "\n",
    "**What is a Naive Bayes classifier?**\n",
    "\n",
    "**Why are they not used very much?**\n",
    "They are simple to implement but pretty inaccurate and overconfident."
   ]
  }
 ],
 "metadata": {},
 "nbformat": 4,
 "nbformat_minor": 2
}

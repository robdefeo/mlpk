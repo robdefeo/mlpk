{
 "cells": [
  {
   "cell_type": "markdown",
   "metadata": {},
   "source": [
    "# Model Architecture\n",
    "\n",
    "**What is model architecture?** TODO:\n",
    "\n",
    "**Why is model architecture important?** TODO:\n",
    "\n",
    "**Large model architecutre?** TODO:\n",
    "A model that can store a lot of information has the potential to be more\n",
    "accurate by leveraging more features, but it is also more at risk to start\n",
    "storing irrelevant features\n",
    "\n",
    "**Small model architecutre?** TODO:\n",
    "A model that can only store a few features will have to focus on the most\n",
    "significant features found in the data, and these are more likely to be truly\n",
    "relevant and to generalize better.\n",
    "\n",
    "**What is entropic capacity?**\n",
    "Main focus for fighting overfitting should be the entropic capacity of your\n",
    "model --how much information your model is allowed to store\n",
    "\n",
    "**How to control the entropic capacity of a model?**\n",
    "The main one is the choice of the number of parameters in your model, i.e. the\n",
    "number of layers and the size of each layer. Another way is the use of weight\n",
    "regularization, such as L1 or L2 regularization, which consists in forcing model\n",
    "weights to taker smaller values."
   ]
  }
 ],
 "metadata": {},
 "nbformat": 4,
 "nbformat_minor": 2
}

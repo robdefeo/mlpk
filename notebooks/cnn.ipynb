{
 "cells": [
  {
   "cell_type": "markdown",
   "metadata": {},
   "source": [
    "# Convolutional Neural Network (CNN)\n",
    "\n",
    "**What is a CNN?** TODO:\n",
    "Convolutional Neutral Network - Multi-layer model that  Has neurons similar to a\n",
    "human brain and have weights that are learnt through training. CCN represent\n",
    "spacial problems well.\n",
    "\n",
    "**What is a CCN best used for?** TODO:\n",
    "CNN are very good for percuptual problems such as image classification.\n",
    "It is a very flexible and used to solve many problems, it is particularly useful\n",
    "when there is some \"ordered data\" of some description, with this characteristic\n",
    "it is used for image recognition as well as NLP.\n",
    "\n",
    "**What is a convolutional layer?** TODO:\n",
    "For images they are a representation of spacial relationships, its all about how\n",
    "items related to each other from the point of view of position.\n",
    "\n",
    "**How does a 1D convolution different from a 2D convolution?**\n",
    "It depends on the data, e.g. image = 2D, sentence = 1D\n",
    "\n",
    "**How to start creating a model from scratch?**\n",
    "Start to create the simplest model possible that out performs random.\n",
    "        1. Batch norm\n",
    "        2. Flatten\n",
    "\n",
    "**What is the simplest possible CNN?**\n",
    "It has the layers:\n",
    "- Convolution\n",
    "- Dropout\n",
    "- MaxPooling\n",
    "- Dense layer"
   ]
  }
 ],
 "metadata": {},
 "nbformat": 4,
 "nbformat_minor": 2
}

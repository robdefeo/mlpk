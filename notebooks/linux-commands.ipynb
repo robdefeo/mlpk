{
 "cells": [
  {
   "cell_type": "markdown",
   "metadata": {},
   "source": [
    "# Linux commands\n",
    "\n",
    "## Tmux\n",
    "\n",
    "Tmux is a tool that allows for multiple windows to be open with in a single\n",
    "terminal session, run with `tumx`.  You can attach to exsiting session with\n",
    "`tmux attach`\n",
    "\n",
    "## Utils\n",
    "\n",
    "- Count all files in a directory `ls . | wc -l`.\n",
    "- Count all files of a specific type in a directory `ls ./*.{file-type} | wc -l`"
   ]
  }
 ],
 "metadata": {},
 "nbformat": 4,
 "nbformat_minor": 2
}

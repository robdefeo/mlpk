{
 "cells": [
  {
   "cell_type": "markdown",
   "metadata": {},
   "source": [
    "# Deep Learning\n",
    "\n",
    "**What is the difference between machine learning and deep learning?** Â\n",
    "Deep learning is a subset of machine learning, or a way to implement machine\n",
    "learning. It is implemented using  artificial neural networks, each \"neuron\"\n",
    "weighting being trained and their values are then used to predict the correct\n",
    "answer.\n",
    "\n",
    "**How does Deep Learning improve on traditional machine learning?**\n",
    "Machine learning requires still manual work to hand code filters and classifiers\n",
    "making it prone to error, deep learning uses neural nets to see the weights and\n",
    "train them based more on the data meaning it is more flexible.  It is easier\n",
    "with deep learning to create more complex models by adding layers and improving\n",
    "the results. With the introduction of GPU the computation power needed to train\n",
    "these types of models is now readily available.\n",
    "What are the popular deep learning frameworks?\n",
    "Some of the popular deep learning frameworks are MxNet, Tensorflow, Caffe,\n",
    "Keras, theano, torch"
   ]
  }
 ],
 "metadata": {},
 "nbformat": 4,
 "nbformat_minor": 2
}

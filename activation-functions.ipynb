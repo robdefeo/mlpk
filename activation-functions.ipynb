{
 "cells": [
  {
   "cell_type": "markdown",
   "metadata": {},
   "source": [
    "# Activation functions\n"    
   ]
  },
  {
   "cell_type": "markdown",
   "metadata": {},
   "source": [
    "**What do activation layers actually do?** TODO:\n",
    "They get the result in to the format required for the next layer, e.g. in the case the result needs to be a one-hot encoding, the function will be applied to each of the values to make the results as close as possible to 1 or 0 for easy conversion. The easier it is for the neural net to create the thing we want the fast and more accurate the result will be.\n"
    ]
  },
  {
   "cell_type": "markdown",
   "metadata": {},
   "source": [
    "**What is soft max activation function?** TODO:\n",
    "It converts the output values so they are as close as possible to 1 or 0, e.g. one-hot encoded, ideal for use in multi-class classification problems.\n"    
   ]
  },
  {
   "cell_type": "markdown",
   "metadata": {},
   "source": [
    "**What activation functions should I use where?** TODO:\n",
    "If in doubt use \"relu\" everywhere apart form the last layer and there use \"softmax\""
   ]
  }
 ],
 "metadata": {
  "kernelspec": {
   "display_name": "Python 3",
   "language": "python",
   "name": "python3"
  },
  "language_info": {
   "codemirror_mode": {
    "name": "ipython",
    "version": 3
   },
   "file_extension": ".py",
   "mimetype": "text/x-python",
   "name": "python",
   "nbconvert_exporter": "python",
   "pygments_lexer": "ipython3",
   "version": "3.6.1"
  }
 },
 "nbformat": 4,
 "nbformat_minor": 2
}

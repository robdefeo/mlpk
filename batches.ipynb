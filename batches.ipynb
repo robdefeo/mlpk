{
 "cells": [
  {
   "cell_type": "markdown",
   "metadata": {},
   "source": [
    "# Batches\n",
    "\n",
    "**What is a batch?**\n",
    "Several items grouped together.\n",
    "\n",
    "**Why are batches used?**\n",
    "If data was passed one item at a time, to the GPU, it would take a long time to process and the GPU would be mostly idle. To make the most of GPU performance data is processed in groups.\n",
    "\n",
    "**What is an ideal size of a batch?** TODO:\n",
    "\n",
    "**What happens if the batch size is too small? / Why not process one piece of data at a time?**\n",
    "If data is passed one item at a time, to the GPU, it would take a long time to process and the GPU would be under utilized .\n",
    "\n",
    "**What happens if the batch size is too large? / Why not process all the data in one go?**\n",
    "GPU have a limited amount of memory, it's unlikely that it can all fit in GPU memory."
   ]
  }
 ],
 "metadata": {
  "kernelspec": {
   "display_name": "Python 3",
   "language": "python",
   "name": "python3"
  },
  "language_info": {
   "codemirror_mode": {
    "name": "ipython",
    "version": 3
   },
   "file_extension": ".py",
   "mimetype": "text/x-python",
   "name": "python",
   "nbconvert_exporter": "python",
   "pygments_lexer": "ipython3",
   "version": "3.6.1"
  }
 },
 "nbformat": 4,
 "nbformat_minor": 2
}

{
 "cells": [
  {
   "cell_type": "markdown",
   "metadata": {},
   "source": [
    "# Overfitting\n",
    "\n",
    "**What is overfitting?**  Where the model learns patterns that do not generliase to new data that is was not trained on.  It learns features that are not relevant for making predictions, it works great on a specific training set but not for general patterns.\n",
    "\n",
    "**How to tell if a model is overfitting?**  The model has higher accuracy for the specific training / test set but lower against the validation set.\n",
    "\n",
    "**What causes overfitting?**\n",
    "Overfitting happens when a model exposed to too few examples learns patterns that do not generalize to new data, i.e. when the model starts using irrelevant features for making predictions.\n",
    "TODO:\n",
    "\n",
    "- Inappropiate [model architecture](./model-architecture.ipynb)\n",
    "- Too few samples (data)\n",
    "- Non reperesentive samples\n",
    "- Training for too long, without using dropout or data augmentation.\n",
    "\n",
    "**What techniques prevent overfitting?**\n",
    "\n",
    "- *Use dropout:* This can added at each layer of the model it will mean that a percentage of the activations will be removed at random so that the model can not overfit based on the data even if trained for a long time.\n",
    "- *Data augmentation*: Change the data in subtle ways at random to reflect real world scenario's, e.g. if doing image detection, slightly rotate, crop, pan etc the image when doing the training differently at each epoch.\n",
    "- *Do not over train the model:* Too many epochs can cause the model to overfit as it will be training too much on the training and test sets."
   ]
  }
 ],
 "metadata": {
  "kernelspec": {
   "display_name": "Python 3",
   "language": "python",
   "name": "python3"
  },
  "language_info": {
   "codemirror_mode": {
    "name": "ipython",
    "version": 3
   },
   "file_extension": ".py",
   "mimetype": "text/x-python",
   "name": "python",
   "nbconvert_exporter": "python",
   "pygments_lexer": "ipython3",
   "version": "3.6.1"
  }
 },
 "nbformat": 4,
 "nbformat_minor": 2
}

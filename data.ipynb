{
 "cells": [
  {
   "cell_type": "markdown",
   "metadata": {},
   "source": [
    "# Data\n",
    "\n",
    "The more the better. Data is at the heart of the resurgence of deep learning, since complex nonlinear models require lots of it to work well. Here are some examples.\n",
    "Images, e.g. pictures taken by your phone (cats, dogs, dinosaurs, high school reunions, dentist's X-Ray images, satellite images, ...)\n",
    "Text, e.g. emails, high school essays, tweets, news articles\n",
    "Sound, e.g. voice commands sent to an Echo, audio books, phone calls\n",
    "Video, e.g. movies, home surveillance, multi-camera tracking, ...\n",
    "Structured data, e.g. this Jupyter notebook (it contains text, images, code), a webpage, car rental records, your electricity bill, ...\n",
    "\n",
    "\n",
    "Note that there is a subtle difference between discrete random variables, like the sides of a dice, and continuous ones, like the weight and the height of a person. There's little point in asking whether two people have exactly the same height - the probably won't. In fact, even the same person will probably not have the same height at two different occasions. They might have gained weight, a tiny bit of skin on their feet might have rubbed off, etc; What makes more sense in this case is to ask whether the height falls into a given interval, say between 180.0 and 180.1 centimeters. "
   ]
  }
 ],
 "metadata": {
  "kernelspec": {
   "display_name": "Python 3",
   "language": "python",
   "name": "python3"
  },
  "language_info": {
   "codemirror_mode": {
    "name": "ipython",
    "version": 3
   },
   "file_extension": ".py",
   "mimetype": "text/x-python",
   "name": "python",
   "nbconvert_exporter": "python",
   "pygments_lexer": "ipython3",
   "version": "3.6.1"
  }
 },
 "nbformat": 4,
 "nbformat_minor": 2
}

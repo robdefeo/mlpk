{
 "cells": [
  {
   "cell_type": "markdown",
   "metadata": {},
   "source": [
    "# Classification"
   ]
  },
  {
   "cell_type": "markdown",
   "metadata": {},
   "source": [
    "**What is a classifier?**"
   ]
  },
  {
   "cell_type": "markdown",
   "metadata": {},
   "source": [
    "**What does the probability associated with the classification prediction mean?**  \n",
    "The confidence of the classifier is expressed in probabilties, e.g.  Pr(y=cat|x)=0.9 meaning the classifier is 90% sure that it's a cat.\n"
   ]
  },
  {
   "cell_type": "markdown",
   "metadata": {},
   "source": [
    "**Should I always take the result with the highest probability?**  \n",
    "It depends on the loss of a incorrect result, 90% is high but 10% of the time not stopping at a red light is too high!"
   ]
  },
  {
   "cell_type": "markdown",
   "metadata": {},
   "source": [
    "**What types of classifiers are there?**  \n",
    "\n",
    "- *Binary* - `[0, 1]` True / False\n",
    "- *multi-class* - `[0, 1, 2, 3, 4, 5, 6, 7, 8, 9]` belong to a specific category.\n",
    "- *hierarchical classification* - different hierarcical groups"
   ]
  },
  {
   "cell_type": "markdown",
   "metadata": {},
   "source": [
    "**What is specicial about hierarchical classification**  \n",
    "The cost of miss-categorisation is difficult to predict, typically mistaking something in the correct parent category but wrong child is not a big deal however sometime the child nodes might be important. Think about miss-identifying the wrong type of cat (harmless) to miss-identifying the wrong snake (potentially dangerous).  Costs of miss-identitying typically is more the further from the truth however it is not uniform."
   ]
  },
  {
   "cell_type": "markdown",
   "metadata": {},
   "source": [
    "**When can classification not be used effectivly?**\n",
    "- *Tagging* it would result in running 'n' models to add all the tags\n",
    "- *[Regression](./regression.md)* predict a spefic value"
   ]
  }
 ],
 "metadata": {
  "kernelspec": {
   "display_name": "Python 3",
   "language": "python",
   "name": "python3"
  },
  "language_info": {
   "codemirror_mode": {
    "name": "ipython",
    "version": 3
   },
   "file_extension": ".py",
   "mimetype": "text/x-python",
   "name": "python",
   "nbconvert_exporter": "python",
   "pygments_lexer": "ipython3",
   "version": "3.6.1"
  }
 },
 "nbformat": 4,
 "nbformat_minor": 2
}

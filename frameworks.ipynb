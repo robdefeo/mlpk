{
 "cells": [
  {
   "cell_type": "markdown",
   "metadata": {},
   "source": [
    "# Frameworks"
   ]
  },
  {
   "cell_type": "markdown",
   "metadata": {},
   "source": [
    "## MxNet\n",
    "MXNet library, which has the rare property of being flexible enough for research while being fast enough for production\n"
   ]
  },
  {
   "cell_type": "markdown",
   "metadata": {},
   "source": [
    "## Keras\n",
    "\n",
    "**Why is Keras useful?**\n",
    "Single abstraction layer on, MxNet (in dev), TensorFlow and Theano.\n",
    "\n",
    "**How to change Keras back-end?**\n",
    "A Configuration change `backend` value in the `~/.keras/keras.json` file to the prefered framework.  Values are `tensorflow`, `theano` TODO: mxnet???\n",
    "\n",
    "TODO: mxnet\n",
    "```json\n",
    "{\n",
    "    \"floatx\": \"float32\",\n",
    "    \"epsilon\": 1e-07,\n",
    "    \"backend\": \"tensorflow\",\n",
    "    \"image_data_format\": \"channels_last\"\n",
    "}\n",
    "```"
   ]
  },
  {
   "cell_type": "markdown",
   "metadata": {},
   "source": [
    "\n",
    "\n",
    "\n",
    "\n",
    "\n",
    "\n",
    "## TensorFlow\n",
    "\n",
    "\n",
    "## Theano\n",
    "\n",
    "**What is Theano not good at?**\n",
    "It does not work with multiple GPU's well.\n",
    "\n",
    "## CUDA\n",
    "\n",
    "### CUDNN"
   ]
  }
 ],
 "metadata": {
  "kernelspec": {
   "display_name": "Python 3",
   "language": "python",
   "name": "python3"
  },
  "language_info": {
   "codemirror_mode": {
    "name": "ipython",
    "version": 3
   },
   "file_extension": ".py",
   "mimetype": "text/x-python",
   "name": "python",
   "nbconvert_exporter": "python",
   "pygments_lexer": "ipython3",
   "version": "3.6.1"
  }
 },
 "nbformat": 4,
 "nbformat_minor": 2
}
